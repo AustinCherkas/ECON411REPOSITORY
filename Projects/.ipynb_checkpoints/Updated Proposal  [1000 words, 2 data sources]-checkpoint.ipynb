{
 "cells": [
  {
   "cell_type": "markdown",
   "id": "0fdb0261",
   "metadata": {},
   "source": [
    "I am interested in researching how European Nations developed from 1500 to 1700. This time period can be characterized by pushing away from traditional ideas of economic activity. The period s a really interesting moment in economic development where there was a push back against what economic organization looked like in the past in order to have a “thriving” state although more nationalized economy and it would be very interesting to see how these nations performed and stack up to each other. I am curious if population growth caused higher prosperity among Western European nations. This means that I will be examining GDP, because it captures the value of all goods in the economy. There are other measures of prosperity that one should consider like the investment environment, enterprise conditions, and market access. The problem with these other measures is that there is no relevant data for these factors. Essentially the only way for these measures to be usable is to make an index that compares via ranking which nations perform better in those categories. Also, there are other non-economic factors that should be considered when defining a nation as prosperous. So, for this research project, I plan on using the tried and true GDP method of measurement although understanding that GDP can have its shortcomings. For example, GDP does not account for quality improvements where there are no changes in price. This is caused by technological improvements which are undervalued in calculating GDP. This is a time period where technological advancement led to growth in the product market. This was a pivotal shift from agricultural production to manufacturing goods. I have yet to find any data on manufacturing outputs for these nations, but it would be interesting to see this growth over some different visualizations. \n",
    "\n",
    "The reason I want to explore the relationship between population and income growth is to determine if Malthusian Theory was \"seen\" from this time period. Based on the data that I am able to collect, I am curious if said data reflects Malthusian Theory in any way possible. Malthusian Theory is a widely disproven idea of economic development. Using the technology of today, I want to see if any of the relationships Malthus theorized can be seen in data analysis. Malthusian theory asserts that scarcity of land and resources creates a human carrying capacity (or a maximum living population). Malthusian theory is concerned with population growth because the higher the population creates the more resource requirements. The only way to fight this off is my facing war, famine, and disaster (a means of population control in some way). Malthus failed to anticipate new technologies that would decrease food insecurities. Another criticism for Malthusian theory is that he only examined the population of England, in this research I would like to study France, Spain, and Italy to overcome the oversight of Thomas Malthus. He believed that the population grew over the last three centuries (His work was published in 1798 which does bleed in to the time period I am interested in). These nations in question will have fluctuations in population, and discovering what causes those fluctuations is important for examining whether Malthusian theory is observed within this time period. If population decreases and economic output increases, then we could see that there are Malthusian pressures involved (population control in some level) with economic growth. I plan on creating a visualization to specifically examine population dips for each nation to see if there was higher output. The inverse can be created as a visualization if there is not periods of population decline. If Malthusian pressures are noticed, then population growth would spur a decrease in output. \n",
    "\n",
    "Not all Western European nations saw success. It is important to see how these economies reacted to the development of the mercantile system (mercantilism). While researching I will need to discover a way to determine if a nation is successful or not. This requires a definition and conditions for success. I am thinking about comparing segments of time in relation to the GDP/GDP per Capita for each country and visualize the differences in them. For example, I would average the GDP/GDP per Capita for England over a fifty-year period and compare it to the same 50 years for the other nations of interest. Next I would rank their placements and use a Wilcoxon Ranked Sum test to determine if their rankings are significantly significant to each other. This is a weird way to define \"success\" but when using GDP and GDP per Capita as a measure of prosperity, I figured this would be a functional method to see if \"winners\" are shown through statistical significance. Researching further will help me determine if this is a good way to define success (or at least understand the pitfalls and drawbacks of defining success in such a way).\n",
    "\n",
    "Outlining the mercantile system through GDP and population is certainly good and all, but it fails to outline problems of inflation of this era. Nations began to hoard wealth because they saw it as the best way top secure power over competing nations. Speaking of competition, the accumulation of wealth was considered in this time period to be a zero-sum game. This means that one nation's success results in another nation's failure. This incentive structure created a trade imbalance where nations desired to export much more than they imported goods. This is how these nations hoard currency. By doing this, the prices of goods increase because the quantity of money increases while the exchanges (and spending) of an economy stay the same. I haven't found data on inflation during this time, but that doesn't mean I won't find a creative way to find measures of this as I continue this project. If I could measure inflation for these nations during this time period, I can measure some of the drawbacks of mercantilism. \n",
    "\n",
    "\n",
    "I am hoping this research project tells a story of change, which sounds pretty basic on the surface level but certainly is not when one digs deeper. This time period transitions from suspicion of economic activities (like with usuary laws and the social standings of merchants) to nationalized economies (mercantilism was a step forward but also problematic for economic growth). Overall, this was a time period of taking steps in the right direction for economic activity, while also simultaneously taking a step in the wrong direction. As I research more, I will have more questions that I will pursue for this project.   \n",
    "\n"
   ]
  },
  {
   "cell_type": "markdown",
   "id": "c08cd5d7",
   "metadata": {},
   "source": [
    "Resources:\n",
    "\n",
    "GDP and GDP Per Capita England: https://ourworldindata.org/grapher/total-gdp-in-the-uk-since-1270?time=1500..1700 \n",
    "\n",
    "Population England: https://ourworldindata.org/grapher/population-of-england-millennium?time=1500..1700\n",
    "\n",
    "GDP Per Capita France: http://e-theses.imtlucca.it/211/1/Ridolfi_phdthesis.pdf \n",
    "\n",
    "Population France: https://ourworldindata.org/grapher/population?time=1500..1700&country=~FRA\n",
    "\n",
    "GDP Per Capita Spain: 1270-1850 Álvarez-Nogal, C. and L. Prados de la Escosura (2013). \"The Rise and Fall of Spain (1270-1850),\" \n",
    "Economic History Review, 66, 1, 1-37\n",
    "\n",
    "Population Spain: https://ourworldindata.org/grapher/population?time=1500..1700&country=~ESP\n",
    "\n",
    "GDP Per Capita Italy: 1310-1871 (North Italy) Malanima, P. (2010), “The long decline of a leading economy: GDP in central and northern Italy, 1300–1913” European Review of Economic History 15 (2): 169–219.\n",
    "\n",
    "Population Italy: https://ourworldindata.org/grapher/population?time=1500..1700&country=~ITA"
   ]
  },
  {
   "cell_type": "code",
   "execution_count": null,
   "id": "3854ac41",
   "metadata": {},
   "outputs": [],
   "source": []
  }
 ],
 "metadata": {
  "kernelspec": {
   "display_name": "Python 3 (ipykernel)",
   "language": "python",
   "name": "python3"
  },
  "language_info": {
   "codemirror_mode": {
    "name": "ipython",
    "version": 3
   },
   "file_extension": ".py",
   "mimetype": "text/x-python",
   "name": "python",
   "nbconvert_exporter": "python",
   "pygments_lexer": "ipython3",
   "version": "3.9.7"
  }
 },
 "nbformat": 4,
 "nbformat_minor": 5
}
