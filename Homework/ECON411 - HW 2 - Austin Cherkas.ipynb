{
 "cells": [
  {
   "cell_type": "code",
   "execution_count": 1,
   "id": "8c03fa09",
   "metadata": {},
   "outputs": [],
   "source": [
    "import pandas as pd"
   ]
  },
  {
   "cell_type": "code",
   "execution_count": 3,
   "id": "7a426aad",
   "metadata": {
    "scrolled": true
   },
   "outputs": [
    {
     "data": {
      "text/plain": [
       "{'Caton, James': {'Position': 'Assistant Professor',\n",
       "  'Email': 'james.caton@ndsu.edu',\n",
       "  'Phone': '701-231-7337'},\n",
       " 'Choi, BongJin': {'Position': 'Assistant Professor, Big Data Statistical Analysis Graduate Certificate Coordinator',\n",
       "  'Email': 'Bongjin.Choi@ndsu.edu',\n",
       "  'Phone': '701-231-9788'},\n",
       " 'Degges, Ronald': {'Position': 'Statistics Associate Professor of Practice',\n",
       "  'Email': 'Ronald.Degges@ndsu.edu',\n",
       "  'Phone': 'Not Applicable'},\n",
       " 'Hearne, Robert': {'Position': 'Professor',\n",
       "  'Email': 'Robert.Hearne@ndsu.edu',\n",
       "  'Phone': '701-231-6494'},\n",
       " 'Jackson, Jeremy': {'Position': 'Professor',\n",
       "  'Email': 'Jeremy.Jackson@ndsu.edu',\n",
       "  'Phone': '701-231-7832'},\n",
       " 'March, Raymond': {'Position': 'Assistant Professor',\n",
       "  'Email': 'raymond.j.march@ndsu.edu',\n",
       "  'Phone': '701-231-8883'},\n",
       " 'Matiac, Dane': {'Position': 'Assistant Professor of Sociology',\n",
       "  'Email': 'dane.mataic@ndsu.edu',\n",
       "  'Phone': '701-231-9588'},\n",
       " 'Sharma, Anupa': {'Position': 'Asst. Prof. & Asst. Dir., Center for Ag Policy & Trade Studies',\n",
       "  'Email': 'anupa.sharma@ndsu.edu',\n",
       "  'Phone': '701-231-7448'},\n",
       " 'Smith, Leretta': {'Position': 'Senior Lecturer of Sociology',\n",
       "  'Email': 'leretta.smith@ndsu.edu',\n",
       "  'Phone': '701-231-8939'},\n",
       " 'Weber, Christina': {'Position': 'Sociology Department Chair',\n",
       "  'Email': 'christina.d.weber@ndsu.edu',\n",
       "  'Phone': '701-231-8928'}}"
      ]
     },
     "execution_count": 3,
     "metadata": {},
     "output_type": "execute_result"
    }
   ],
   "source": [
    "facultydictionary = {\"Caton, James\":{\"Position\": \"Assistant Professor\", \"Email\": \"james.caton@ndsu.edu\", \"Phone\": \"701-231-7337\"},\n",
    "                    \"Choi, BongJin\":{\"Position\": \"Assistant Professor, Big Data Statistical Analysis Graduate Certificate Coordinator\", \"Email\": \"Bongjin.Choi@ndsu.edu\", \"Phone\": \"701-231-9788\"},\n",
    "                    \"Degges, Ronald\":{\"Position\": \"Statistics Associate Professor of Practice\", \"Email\": \"Ronald.Degges@ndsu.edu\", \"Phone\": \"Not Applicable\"},\n",
    "                    \"Hearne, Robert\":{\"Position\": \"Professor\", \"Email\": \"Robert.Hearne@ndsu.edu\", \"Phone\": \"701-231-6494\"},\n",
    "                    \"Jackson, Jeremy\":{\"Position\": \"Professor\", \"Email\": \"Jeremy.Jackson@ndsu.edu\", \"Phone\": \"701-231-7832\"},\n",
    "                    \"March, Raymond\":{\"Position\": \"Assistant Professor\", \"Email\": \"raymond.j.march@ndsu.edu\", \"Phone\": \"701-231-8883\"},\n",
    "                    \"Matiac, Dane\":{\"Position\": \"Assistant Professor of Sociology\", \"Email\": \"dane.mataic@ndsu.edu\", \"Phone\": \"701-231-9588\"},\n",
    "                    \"Sharma, Anupa\":{\"Position\": \"Asst. Prof. & Asst. Dir., Center for Ag Policy & Trade Studies\", \"Email\": \"anupa.sharma@ndsu.edu\", \"Phone\": \"701-231-7448\"},\n",
    "                    \"Smith, Leretta\":{\"Position\": \"Senior Lecturer of Sociology\", \"Email\": \"leretta.smith@ndsu.edu\", \"Phone\": \"701-231-8939\"},\n",
    "                    \"Weber, Christina\":{\"Position\": \"Sociology Department Chair\", \"Email\": \"christina.d.weber@ndsu.edu\", \"Phone\": \"701-231-8928\"}}\n",
    "facultydictionary"
   ]
  },
  {
   "cell_type": "code",
   "execution_count": 8,
   "id": "d324fd6d",
   "metadata": {},
   "outputs": [
    {
     "data": {
      "text/html": [
       "<div>\n",
       "<style scoped>\n",
       "    .dataframe tbody tr th:only-of-type {\n",
       "        vertical-align: middle;\n",
       "    }\n",
       "\n",
       "    .dataframe tbody tr th {\n",
       "        vertical-align: top;\n",
       "    }\n",
       "\n",
       "    .dataframe thead th {\n",
       "        text-align: right;\n",
       "    }\n",
       "</style>\n",
       "<table border=\"1\" class=\"dataframe\">\n",
       "  <thead>\n",
       "    <tr style=\"text-align: right;\">\n",
       "      <th></th>\n",
       "      <th>Position</th>\n",
       "      <th>Email</th>\n",
       "      <th>Phone</th>\n",
       "    </tr>\n",
       "  </thead>\n",
       "  <tbody>\n",
       "    <tr>\n",
       "      <th>Caton, James</th>\n",
       "      <td>Assistant Professor</td>\n",
       "      <td>james.caton@ndsu.edu</td>\n",
       "      <td>701-231-7337</td>\n",
       "    </tr>\n",
       "    <tr>\n",
       "      <th>Choi, BongJin</th>\n",
       "      <td>Assistant Professor, Big Data Statistical Anal...</td>\n",
       "      <td>Bongjin.Choi@ndsu.edu</td>\n",
       "      <td>701-231-9788</td>\n",
       "    </tr>\n",
       "    <tr>\n",
       "      <th>Degges, Ronald</th>\n",
       "      <td>Statistics Associate Professor of Practice</td>\n",
       "      <td>Ronald.Degges@ndsu.edu</td>\n",
       "      <td>Not Applicable</td>\n",
       "    </tr>\n",
       "    <tr>\n",
       "      <th>Hearne, Robert</th>\n",
       "      <td>Professor</td>\n",
       "      <td>Robert.Hearne@ndsu.edu</td>\n",
       "      <td>701-231-6494</td>\n",
       "    </tr>\n",
       "    <tr>\n",
       "      <th>Jackson, Jeremy</th>\n",
       "      <td>Professor</td>\n",
       "      <td>Jeremy.Jackson@ndsu.edu</td>\n",
       "      <td>701-231-7832</td>\n",
       "    </tr>\n",
       "    <tr>\n",
       "      <th>March, Raymond</th>\n",
       "      <td>Assistant Professor</td>\n",
       "      <td>raymond.j.march@ndsu.edu</td>\n",
       "      <td>701-231-8883</td>\n",
       "    </tr>\n",
       "    <tr>\n",
       "      <th>Matiac, Dane</th>\n",
       "      <td>Assistant Professor of Sociology</td>\n",
       "      <td>dane.mataic@ndsu.edu</td>\n",
       "      <td>701-231-9588</td>\n",
       "    </tr>\n",
       "    <tr>\n",
       "      <th>Sharma, Anupa</th>\n",
       "      <td>Asst. Prof. &amp; Asst. Dir., Center for Ag Policy...</td>\n",
       "      <td>anupa.sharma@ndsu.edu</td>\n",
       "      <td>701-231-7448</td>\n",
       "    </tr>\n",
       "    <tr>\n",
       "      <th>Smith, Leretta</th>\n",
       "      <td>Senior Lecturer of Sociology</td>\n",
       "      <td>leretta.smith@ndsu.edu</td>\n",
       "      <td>701-231-8939</td>\n",
       "    </tr>\n",
       "    <tr>\n",
       "      <th>Weber, Christina</th>\n",
       "      <td>Sociology Department Chair</td>\n",
       "      <td>christina.d.weber@ndsu.edu</td>\n",
       "      <td>701-231-8928</td>\n",
       "    </tr>\n",
       "  </tbody>\n",
       "</table>\n",
       "</div>"
      ],
      "text/plain": [
       "                                                           Position  \\\n",
       "Caton, James                                    Assistant Professor   \n",
       "Choi, BongJin     Assistant Professor, Big Data Statistical Anal...   \n",
       "Degges, Ronald           Statistics Associate Professor of Practice   \n",
       "Hearne, Robert                                            Professor   \n",
       "Jackson, Jeremy                                           Professor   \n",
       "March, Raymond                                  Assistant Professor   \n",
       "Matiac, Dane                       Assistant Professor of Sociology   \n",
       "Sharma, Anupa     Asst. Prof. & Asst. Dir., Center for Ag Policy...   \n",
       "Smith, Leretta                         Senior Lecturer of Sociology   \n",
       "Weber, Christina                         Sociology Department Chair   \n",
       "\n",
       "                                       Email           Phone  \n",
       "Caton, James            james.caton@ndsu.edu    701-231-7337  \n",
       "Choi, BongJin          Bongjin.Choi@ndsu.edu    701-231-9788  \n",
       "Degges, Ronald        Ronald.Degges@ndsu.edu  Not Applicable  \n",
       "Hearne, Robert        Robert.Hearne@ndsu.edu    701-231-6494  \n",
       "Jackson, Jeremy      Jeremy.Jackson@ndsu.edu    701-231-7832  \n",
       "March, Raymond      raymond.j.march@ndsu.edu    701-231-8883  \n",
       "Matiac, Dane            dane.mataic@ndsu.edu    701-231-9588  \n",
       "Sharma, Anupa          anupa.sharma@ndsu.edu    701-231-7448  \n",
       "Smith, Leretta        leretta.smith@ndsu.edu    701-231-8939  \n",
       "Weber, Christina  christina.d.weber@ndsu.edu    701-231-8928  "
      ]
     },
     "execution_count": 8,
     "metadata": {},
     "output_type": "execute_result"
    }
   ],
   "source": [
    "facultyDF = pd.DataFrame(facultydictionary)\n",
    "facultyDF.T"
   ]
  },
  {
   "cell_type": "code",
   "execution_count": 11,
   "id": "a2e115b1",
   "metadata": {},
   "outputs": [],
   "source": [
    "facultyDF.to_csv(\"ProfessorsAdmire.csv\")"
   ]
  }
 ],
 "metadata": {
  "kernelspec": {
   "display_name": "Python 3 (ipykernel)",
   "language": "python",
   "name": "python3"
  },
  "language_info": {
   "codemirror_mode": {
    "name": "ipython",
    "version": 3
   },
   "file_extension": ".py",
   "mimetype": "text/x-python",
   "name": "python",
   "nbconvert_exporter": "python",
   "pygments_lexer": "ipython3",
   "version": "3.9.7"
  }
 },
 "nbformat": 4,
 "nbformat_minor": 5
}
