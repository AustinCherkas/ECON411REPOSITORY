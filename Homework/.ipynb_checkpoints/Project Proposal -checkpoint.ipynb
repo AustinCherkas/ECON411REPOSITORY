{
 "cells": [
  {
   "cell_type": "markdown",
   "id": "42ea6b42",
   "metadata": {},
   "source": [
    "A project I would be interested in exploring is the US Debt Ceiling. I would like to learn more about what the debt ceiling is and what impacts it has on the US Economy. I am curious how other economic indicators show a relationship with the debt ceiling too. I think this is an interesting project to look into because it is very topical and would be a good experience for me in building my programming skills. "
   ]
  },
  {
   "cell_type": "markdown",
   "id": "1e6047a9",
   "metadata": {},
   "source": [
    "Potential Macroeconomic Impact of Debt Ceiling Brinkmanship. https://home.treasury.gov/system/files/276/POTENTIAL-MACROECONOMIC-IMPACT-OF-DEBT-CEILING-BRINKMANSHIP.pdf. "
   ]
  }
 ],
 "metadata": {
  "kernelspec": {
   "display_name": "Python 3 (ipykernel)",
   "language": "python",
   "name": "python3"
  },
  "language_info": {
   "codemirror_mode": {
    "name": "ipython",
    "version": 3
   },
   "file_extension": ".py",
   "mimetype": "text/x-python",
   "name": "python",
   "nbconvert_exporter": "python",
   "pygments_lexer": "ipython3",
   "version": "3.9.7"
  }
 },
 "nbformat": 4,
 "nbformat_minor": 5
}
