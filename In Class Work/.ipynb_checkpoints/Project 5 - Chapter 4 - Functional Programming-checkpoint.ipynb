{
 "cells": [
  {
   "cell_type": "markdown",
   "id": "05a4e1ef",
   "metadata": {},
   "source": [
    "# Chapter 4: Functional Programming: Rudimentary Statistics and Analytics"
   ]
  },
  {
   "cell_type": "markdown",
   "id": "070988ba",
   "metadata": {},
   "source": [
    "### Total"
   ]
  },
  {
   "cell_type": "code",
   "execution_count": 5,
   "id": "da284ae4",
   "metadata": {},
   "outputs": [
    {
     "name": "stdout",
     "output_type": "stream",
     "text": [
      "total value\n",
      "0 \t 0\n",
      "1 \t 1\n",
      "3 \t 2\n",
      "6 \t 3\n",
      "10 \t 4\n",
      "15 \t 5\n",
      "21 \t 6\n",
      "28 \t 7\n",
      "36 \t 8\n",
      "45 \t 9\n",
      "Final Total: 45\n"
     ]
    }
   ],
   "source": [
    "n = 0\n",
    "total = 0\n",
    "values = [i for i in range(10)]\n",
    "\n",
    "print(\"total\", \"value\")\n",
    "for value in values:\n",
    "    total += value\n",
    "    print(total, \"\\t\", value)\n",
    "\n",
    "print(\"Final Total:\", total)"
   ]
  },
  {
   "cell_type": "code",
   "execution_count": 6,
   "id": "d5ad2910",
   "metadata": {},
   "outputs": [],
   "source": [
    "# Do not keep copying and pasting old code"
   ]
  },
  {
   "cell_type": "code",
   "execution_count": 9,
   "id": "f5cc8e8c",
   "metadata": {},
   "outputs": [
    {
     "data": {
      "text/plain": [
       "45"
      ]
     },
     "execution_count": 9,
     "metadata": {},
     "output_type": "execute_result"
    }
   ],
   "source": [
    "def total(lst):\n",
    "    total_ = 0\n",
    "    for val in lst:\n",
    "        total_ += val\n",
    "    return total_\n",
    "total(values)"
   ]
  },
  {
   "cell_type": "code",
   "execution_count": 10,
   "id": "3b6edc6e",
   "metadata": {},
   "outputs": [
    {
     "data": {
      "text/plain": [
       "932984"
      ]
     },
     "execution_count": 10,
     "metadata": {},
     "output_type": "execute_result"
    }
   ],
   "source": [
    "total([i for i in range(-1000, 10000, 53)])"
   ]
  },
  {
   "cell_type": "code",
   "execution_count": 11,
   "id": "88fed104",
   "metadata": {},
   "outputs": [
    {
     "data": {
      "text/plain": [
       "(165, 590)"
      ]
     },
     "execution_count": 11,
     "metadata": {},
     "output_type": "execute_result"
    }
   ],
   "source": [
    "import random\n",
    "X1 = [3, 6, 9, 12, 15, 18, 21, 24, 27, 30]\n",
    "X2 = [random.randint(0, 100) for i in range(10)]\n",
    "total(X1), total(X2)"
   ]
  },
  {
   "cell_type": "markdown",
   "id": "db0f4b0d",
   "metadata": {},
   "source": [
    "### Mean\n",
    "\n",
    "Let $X_1 (etc) represent $n$ values from a random variable. For a given dataset, useful descriptive stats of central tendency include mean, median, mode."
   ]
  },
  {
   "cell_type": "code",
   "execution_count": 12,
   "id": "eb03da1c",
   "metadata": {},
   "outputs": [
    {
     "data": {
      "text/plain": [
       "(16.5, 59.0)"
      ]
     },
     "execution_count": 12,
     "metadata": {},
     "output_type": "execute_result"
    }
   ],
   "source": [
    "def mean(lst):\n",
    "    n = len(lst)\n",
    "    mean_ = total(lst) / n\n",
    "    return mean_\n",
    "mean(X1), mean(X2)"
   ]
  },
  {
   "cell_type": "markdown",
   "id": "e7cd8357",
   "metadata": {},
   "source": [
    "### Median"
   ]
  },
  {
   "cell_type": "code",
   "execution_count": 24,
   "id": "b73d6cf2",
   "metadata": {},
   "outputs": [
    {
     "data": {
      "text/plain": [
       "(16.5, 48.0)"
      ]
     },
     "execution_count": 24,
     "metadata": {},
     "output_type": "execute_result"
    }
   ],
   "source": [
    "def median(lst):\n",
    "    n = len(lst)\n",
    "    lst = sorted(lst)\n",
    "    \n",
    "    # two cases, \n",
    "    #1: list of odd length. \n",
    "    # i % j checks for remainder upon dividing i by j\n",
    "    if n % 2 != 0:\n",
    "        middleindex = int((n - 1) / 2)\n",
    "        median_ = lst[middleindex]\n",
    "    \n",
    "    #2: List of even length\n",
    "    else:\n",
    "        uppermiddleindex = int(n / 2)\n",
    "        lowermiddleindex = uppermiddleindex - 1 \n",
    "        # pass slice with middle values to mean()\n",
    "        median_ = mean(lst[lowermiddleindex: uppermiddleindex + 1])\n",
    "    return median_\n",
    "    \n",
    "median(X1), median(X2)"
   ]
  },
  {
   "cell_type": "code",
   "execution_count": 25,
   "id": "2775cf48",
   "metadata": {},
   "outputs": [
    {
     "data": {
      "text/plain": [
       "15"
      ]
     },
     "execution_count": 25,
     "metadata": {},
     "output_type": "execute_result"
    }
   ],
   "source": [
    "# Transform X1 to be of odd length by removing the last index\n",
    "# this is to test the first case in the median(function)\n",
    "median(X1[:-1])"
   ]
  },
  {
   "cell_type": "code",
   "execution_count": 17,
   "id": "ed28edf3",
   "metadata": {},
   "outputs": [
    {
     "data": {
      "text/plain": [
       "[26, 27, 34, 42, 45, 51, 76, 93, 97, 99]"
      ]
     },
     "execution_count": 17,
     "metadata": {},
     "output_type": "execute_result"
    }
   ],
   "source": [
    "sorted(X2)"
   ]
  },
  {
   "cell_type": "markdown",
   "id": "b0af9707",
   "metadata": {},
   "source": [
    "### Mode"
   ]
  },
  {
   "cell_type": "code",
   "execution_count": 28,
   "id": "ea6f7c32",
   "metadata": {},
   "outputs": [
    {
     "data": {
      "text/plain": [
       "[1, 5]"
      ]
     },
     "execution_count": 28,
     "metadata": {},
     "output_type": "execute_result"
    }
   ],
   "source": [
    "def mode(lst):\n",
    "    countdict = {}\n",
    "#create entries for each value with 0\n",
    "    for key in lst:\n",
    "        countdict[key] = 0\n",
    "# add up each occurence \n",
    "    for key in lst:\n",
    "        countdict[key] += 1 \n",
    "# calculate max count up front        \n",
    "    maxcount = max(countdict.values())\n",
    "# now we can compare each count to the max count\n",
    "    mode_ = []\n",
    "    for key, count in countdict.items():\n",
    "        if count == maxcount:\n",
    "            mode_.append(key)\n",
    "    return mode_\n",
    "    \n",
    "    #maxcount = 0\n",
    "    #for key, count in countdict.items():\n",
    "        #if count > maxcount:\n",
    "            #maxcount = count\n",
    "            #maxkey = key\n",
    "    \n",
    "    #return maxkey\n",
    "\n",
    "lst = [1, 1, 1, 1, 1, 2, 3, 4, 5, 5, 5, 5, 5]\n",
    "mode(lst)"
   ]
  },
  {
   "cell_type": "markdown",
   "id": "b575f322",
   "metadata": {},
   "source": [
    "### Variance"
   ]
  },
  {
   "cell_type": "code",
   "execution_count": 33,
   "id": "3e376969",
   "metadata": {},
   "outputs": [
    {
     "data": {
      "text/plain": [
       "(82.5, 74.25)"
      ]
     },
     "execution_count": 33,
     "metadata": {},
     "output_type": "execute_result"
    }
   ],
   "source": [
    "def variance(lst, sample = True):\n",
    "    listmean = mean(lst)\n",
    "    n = len(lst)\n",
    "    DOF = n - 1\n",
    "    sumsquarediff = 0\n",
    "    \n",
    "    for val in lst:\n",
    "        diff = val - listmean\n",
    "        sumsquarediff += (diff) ** 2\n",
    "        # print(val, listmean, diff ** 2, sumsquarediff)\n",
    "    if sample == False:\n",
    "        variance_ = sumsquarediff / n\n",
    "    else:\n",
    "        variance_ = sumsquarediff / DOF\n",
    "    return variance_\n",
    "        \n",
    "variance(X1, sample = True), variance(X1, sample = False)"
   ]
  },
  {
   "cell_type": "code",
   "execution_count": 34,
   "id": "0b4553c4",
   "metadata": {},
   "outputs": [
    {
     "data": {
      "text/plain": [
       "(864.0, 777.6)"
      ]
     },
     "execution_count": 34,
     "metadata": {},
     "output_type": "execute_result"
    }
   ],
   "source": [
    "variance(X2, sample = True), variance(X2, sample = False)"
   ]
  },
  {
   "cell_type": "code",
   "execution_count": 35,
   "id": "248dabad",
   "metadata": {},
   "outputs": [
    {
     "data": {
      "text/plain": [
       "(9.082951062292475, 8.616843969807043)"
      ]
     },
     "execution_count": 35,
     "metadata": {},
     "output_type": "execute_result"
    }
   ],
   "source": [
    "def SD(lst, sample = True):\n",
    "    SD_ = variance(lst, sample) ** (1/2)\n",
    "    return SD_\n",
    "SD(X1, sample = True), SD(X1, sample = False)"
   ]
  },
  {
   "cell_type": "code",
   "execution_count": 36,
   "id": "2ff03ffb",
   "metadata": {},
   "outputs": [
    {
     "data": {
      "text/plain": [
       "(29.393876913398138, 27.885480092693403)"
      ]
     },
     "execution_count": 36,
     "metadata": {},
     "output_type": "execute_result"
    }
   ],
   "source": [
    "SD(X2, sample = True), SD(X2, sample = False)"
   ]
  },
  {
   "cell_type": "code",
   "execution_count": null,
   "id": "1eac8c2d",
   "metadata": {},
   "outputs": [],
   "source": []
  }
 ],
 "metadata": {
  "kernelspec": {
   "display_name": "Python 3 (ipykernel)",
   "language": "python",
   "name": "python3"
  },
  "language_info": {
   "codemirror_mode": {
    "name": "ipython",
    "version": 3
   },
   "file_extension": ".py",
   "mimetype": "text/x-python",
   "name": "python",
   "nbconvert_exporter": "python",
   "pygments_lexer": "ipython3",
   "version": "3.9.7"
  }
 },
 "nbformat": 4,
 "nbformat_minor": 5
}
